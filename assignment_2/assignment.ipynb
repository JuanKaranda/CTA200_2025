{
 "cells": [
  {
   "cell_type": "markdown",
   "id": "d7447648",
   "metadata": {},
   "source": [
    "## Part I"
   ]
  },
  {
   "cell_type": "code",
   "execution_count": 31,
   "id": "68d9b43e",
   "metadata": {},
   "outputs": [],
   "source": [
    "def f(x):\n",
    "    \"\"\"\n",
    "    \n",
    "    This function calculates f(x)=x^3-x^2-1\n",
    "    \n",
    "    Parameters:\n",
    "    x         : array-like, values to evaluate\n",
    "    \n",
    "    Returns:\n",
    "    f(x)      : array-like, computed f(x) given x\n",
    "    \n",
    "    \"\"\"\n",
    "    return x**3 - x**2 - 1\n",
    "\n",
    "def df(x):\n",
    "    \"\"\"\n",
    "    \n",
    "    This function calculates the derivative df = df(x)/dx = 3x^2-2x\n",
    "    \n",
    "    Parameters:\n",
    "    x         : array-like, values to evaluate\n",
    "    \n",
    "    Returns:\n",
    "    df(x)      : array-like, computed derivative df(x) given x\n",
    "    \n",
    "    \"\"\"\n",
    "    return 3*x**2 - 2*x"
   ]
  },
  {
   "cell_type": "markdown",
   "id": "b76daf3c",
   "metadata": {},
   "source": [
    "## Part II"
   ]
  },
  {
   "cell_type": "code",
   "execution_count": 43,
   "id": "d86cfd98",
   "metadata": {},
   "outputs": [],
   "source": [
    "import numpy as np\n",
    "\n",
    "def newton(f, df, x0, epsilon=1e-6, max_iter=30):\n",
    "    \"\"\"\n",
    "    \n",
    "    This function performs a Newton iteration of the function 'f' and finds the root 'x_N'\n",
    "    \n",
    "    Parameters:\n",
    "    f         : function-like, function to iterate\n",
    "    df        : function-like, derivative of the function to iterate\n",
    "    x0        : float-like, initial value of the Newton iteration\n",
    "    epsilon   : float-like, precission of the method, |f(x_n)| < epsilon\n",
    "    max_iter  : integer-like, maximum amount of iterations that can happen\n",
    "    \n",
    "    Returns:\n",
    "    x_N       : float-like, computed root of the function f(x) such that f(x_n) = 0\n",
    "    N         : integer-like, iteration in which x_n was found\n",
    "    \n",
    "    \"\"\"\n",
    "    x = np.array([x0])\n",
    "    n = 0\n",
    "    N = None\n",
    "    x_N = None\n",
    "    \n",
    "    while n <= max_iter:\n",
    "        xn = x[n]\n",
    "        if np.abs(f(xn)) < epsilon:\n",
    "            N = n\n",
    "            x_N = xn\n",
    "            print(f\"Found root in {n} iterations.\")\n",
    "            print(f\"The found value is x_N = {xn}.\")\n",
    "            break\n",
    "        elif n == max_iter:\n",
    "            print(\"Iteration Failed.\")\n",
    "            break\n",
    "        else:\n",
    "            xn1 = xn - f(xn)/df(xn)\n",
    "            x = np.append(x, xn1)\n",
    "            n += 1    \n",
    "                \n",
    "    return N, x_N"
   ]
  },
  {
   "cell_type": "markdown",
   "id": "58197b1a",
   "metadata": {},
   "source": [
    "## Part III"
   ]
  },
  {
   "cell_type": "code",
   "execution_count": 44,
   "id": "38b8d60c",
   "metadata": {},
   "outputs": [
    {
     "name": "stdout",
     "output_type": "stream",
     "text": [
      "Found root in 11 iterations.\n",
      "The found value is x_N = 1.4655712318769198.\n"
     ]
    },
    {
     "data": {
      "text/plain": [
       "(11, 1.4655712318769198)"
      ]
     },
     "execution_count": 44,
     "metadata": {},
     "output_type": "execute_result"
    }
   ],
   "source": [
    "newton(f, df, 0.5)"
   ]
  },
  {
   "cell_type": "code",
   "execution_count": 45,
   "id": "759ecf81",
   "metadata": {},
   "outputs": [
    {
     "name": "stdout",
     "output_type": "stream",
     "text": [
      "Found root in 9 iterations.\n",
      "The found value is x_N = 1.465571232470246.\n"
     ]
    },
    {
     "data": {
      "text/plain": [
       "(9, 1.465571232470246)"
      ]
     },
     "execution_count": 45,
     "metadata": {},
     "output_type": "execute_result"
    }
   ],
   "source": [
    "newton(f, df, 10)"
   ]
  },
  {
   "cell_type": "code",
   "execution_count": 46,
   "id": "ac7783fe",
   "metadata": {},
   "outputs": [
    {
     "name": "stdout",
     "output_type": "stream",
     "text": [
      "Iteration Failed.\n"
     ]
    },
    {
     "data": {
      "text/plain": [
       "(None, None)"
      ]
     },
     "execution_count": 46,
     "metadata": {},
     "output_type": "execute_result"
    }
   ],
   "source": [
    "newton(f, df, 60000)"
   ]
  },
  {
   "cell_type": "code",
   "execution_count": 47,
   "id": "f292bdf9",
   "metadata": {},
   "outputs": [
    {
     "name": "stdout",
     "output_type": "stream",
     "text": [
      "Found root in 11 iterations.\n",
      "The found value is x_N = 1.4655712318769198.\n"
     ]
    },
    {
     "data": {
      "text/plain": [
       "(11, 1.4655712318769198)"
      ]
     },
     "execution_count": 47,
     "metadata": {},
     "output_type": "execute_result"
    }
   ],
   "source": [
    "newton(f, df, 0.5, epsilon=1e-8)"
   ]
  },
  {
   "cell_type": "code",
   "execution_count": 58,
   "id": "96f5b09a",
   "metadata": {},
   "outputs": [
    {
     "name": "stdout",
     "output_type": "stream",
     "text": [
      "Found root in 9 iterations.\n",
      "The found value is x_N = 1.465571232470246.\n"
     ]
    },
    {
     "data": {
      "text/plain": [
       "(9, 1.465571232470246)"
      ]
     },
     "execution_count": 58,
     "metadata": {},
     "output_type": "execute_result"
    }
   ],
   "source": [
    "newton(f, df, 10, epsilon=1e-8)"
   ]
  }
 ],
 "metadata": {
  "kernelspec": {
   "display_name": "Python 3 (ipykernel)",
   "language": "python",
   "name": "python3"
  },
  "language_info": {
   "codemirror_mode": {
    "name": "ipython",
    "version": 3
   },
   "file_extension": ".py",
   "mimetype": "text/x-python",
   "name": "python",
   "nbconvert_exporter": "python",
   "pygments_lexer": "ipython3",
   "version": "3.10.2"
  }
 },
 "nbformat": 4,
 "nbformat_minor": 5
}
